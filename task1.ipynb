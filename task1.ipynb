{
 "cells": [
  {
   "cell_type": "code",
   "execution_count": 1,
   "id": "a38f40d8-3a91-40f1-8a47-7e23ba222c3d",
   "metadata": {},
   "outputs": [
    {
     "name": "stdout",
     "output_type": "stream",
     "text": [
      "updated list: [14, 11, 20, 25, 21]\n"
     ]
    }
   ],
   "source": [
    "#creating a list\n",
    "my_list=[9,14,19,20,25]\n",
    "\n",
    "#adding an element to the list\n",
    "my_list.append(21)\n",
    "\n",
    "#removing an element from the list\n",
    "my_list.remove(9)\n",
    "\n",
    "#modifying an element in the list\n",
    "my_list[1]=11\n",
    "print(\"updated list:\",my_list)"
   ]
  },
  {
   "cell_type": "code",
   "execution_count": 9,
   "id": "92a1a9b5-e147-4d7e-aee5-1f71f2f0a839",
   "metadata": {},
   "outputs": [
    {
     "name": "stdout",
     "output_type": "stream",
     "text": [
      "updated dictionary: {'name': 'Nove', 'city': 'Bengaluru', 'gender': 'Female'}\n"
     ]
    }
   ],
   "source": [
    "#creating a dictionary\n",
    "my_dict={'name':'Nove','age':20,'city':'Coimbatore'}\n",
    "\n",
    "#adding\n",
    "my_dict['gender']= 'Female'\n",
    "\n",
    "#removing\n",
    "del my_dict['age']\n",
    "\n",
    "#modifying\n",
    "my_dict['city']='Bengaluru'\n",
    "print(\"updated dictionary:\",my_dict)\n",
    "\n"
   ]
  },
  {
   "cell_type": "code",
   "execution_count": 11,
   "id": "653f9d12-01a4-49a0-bfa0-025fe1b19329",
   "metadata": {},
   "outputs": [
    {
     "name": "stdout",
     "output_type": "stream",
     "text": [
      "updated set: {2, 4, 5, 6, 8, 9}\n"
     ]
    }
   ],
   "source": [
    "#creating a set\n",
    "my_set={2,5,7,8,9}\n",
    "\n",
    "#adding\n",
    "my_set.add(6)\n",
    "\n",
    "#removing\n",
    "my_set.remove(7)\n",
    "\n",
    "#modifying\n",
    "my_set.discard(1)\n",
    "my_set.add(4)\n",
    "print(\"updated set:\",my_set)"
   ]
  },
  {
   "cell_type": "code",
   "execution_count": null,
   "id": "387f7d7f-a0c4-4dfb-abd2-b07e0ed3c52b",
   "metadata": {},
   "outputs": [],
   "source": []
  }
 ],
 "metadata": {
  "kernelspec": {
   "display_name": "Python 3 (ipykernel)",
   "language": "python",
   "name": "python3"
  },
  "language_info": {
   "codemirror_mode": {
    "name": "ipython",
    "version": 3
   },
   "file_extension": ".py",
   "mimetype": "text/x-python",
   "name": "python",
   "nbconvert_exporter": "python",
   "pygments_lexer": "ipython3",
   "version": "3.12.3"
  }
 },
 "nbformat": 4,
 "nbformat_minor": 5
}
